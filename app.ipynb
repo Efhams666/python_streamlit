{
  "nbformat": 4,
  "nbformat_minor": 0,
  "metadata": {
    "colab": {
      "provenance": [],
      "authorship_tag": "ABX9TyN8VdAgzPRQcPQMu1g+CxmV",
      "include_colab_link": true
    },
    "kernelspec": {
      "name": "python3",
      "display_name": "Python 3"
    },
    "language_info": {
      "name": "python"
    }
  },
  "cells": [
    {
      "cell_type": "markdown",
      "metadata": {
        "id": "view-in-github",
        "colab_type": "text"
      },
      "source": [
        "<a href=\"https://colab.research.google.com/github/Efhams666/python_streamlit/blob/main/app.ipynb\" target=\"_parent\"><img src=\"https://colab.research.google.com/assets/colab-badge.svg\" alt=\"Open In Colab\"/></a>"
      ]
    },
    {
      "cell_type": "code",
      "source": [
        "# Install library yang dibutuhkan\n",
        "!pip install streamlit pyngrok -q\n",
        "\n",
        "# Tambahkan authtoken ngrok (ganti dengan token punyamu sendiri)\n",
        "!ngrok config add-authtoken '338dbqzOuOvRMHfU5QyQ1nuMLoE_2RrFAnMk9C6oXgACUqGBG'\n",
        "\n",
        "# Buat file app.py berisi aplikasi Streamlit dengan 3 fitur\n",
        "with open(\"app.py\", \"w\") as f:\n",
        "    f.write(\"\"\"\n",
        "import streamlit as st\n",
        "\n",
        "st.title(\"Aplikasi Serbaguna\")\n",
        "\n",
        "# Menu utama\n",
        "menu = st.sidebar.radio(\"Pilih Fitur\", [\"Kalkulator\", \"Konversi Suhu\", \"Deret Fibonacci\"])\n",
        "\n",
        "# ----------------- Fitur 1: Kalkulator -----------------\n",
        "if menu == \"Kalkulator\":\n",
        "    st.header(\"Kalkulator Sederhana\")\n",
        "\n",
        "    num1 = st.number_input(\"Masukkan angka pertama\", value=0.0)\n",
        "    num2 = st.number_input(\"Masukkan angka kedua\", value=0.0)\n",
        "\n",
        "    operator = st.selectbox(\"Pilih operator\", [\"+\", \"-\", \"*\", \"/\"])\n",
        "\n",
        "    if st.button(\"Hitung\"):\n",
        "        if operator == \"+\":\n",
        "            hasil = num1 + num2\n",
        "        elif operator == \"-\":\n",
        "            hasil = num1 - num2\n",
        "        elif operator == \"*\":\n",
        "            hasil = num1 * num2\n",
        "        elif operator == \"/\":\n",
        "            if num2 != 0:\n",
        "                hasil = num1 / num2\n",
        "            else:\n",
        "                hasil = \"Error: Pembagian dengan nol!\"\n",
        "        st.success(f\"Hasil: {hasil}\")\n",
        "\n",
        "# ----------------- Fitur 2: Konversi Suhu -----------------\n",
        "elif menu == \"Konversi Suhu\":\n",
        "    st.header(\"Konversi Suhu\")\n",
        "\n",
        "    nilai = st.number_input(\"Masukkan nilai suhu\", value=0.0)\n",
        "    satuan_asal = st.selectbox(\"Pilih satuan asal\", [\"Celcius\", \"Reamur\", \"Fahrenheit\"])\n",
        "    satuan_tujuan = st.selectbox(\"Konversi ke\", [\"Celcius\", \"Reamur\", \"Fahrenheit\"])\n",
        "\n",
        "    if st.button(\"Konversi\"):\n",
        "        hasil = None\n",
        "        if satuan_asal == \"Celcius\":\n",
        "            if satuan_tujuan == \"Celcius\":\n",
        "                hasil = nilai\n",
        "            elif satuan_tujuan == \"Reamur\":\n",
        "                hasil = (4/5) * nilai\n",
        "            elif satuan_tujuan == \"Fahrenheit\":\n",
        "                hasil = (9/5) * nilai + 32\n",
        "        elif satuan_asal == \"Reamur\":\n",
        "            if satuan_tujuan == \"Celcius\":\n",
        "                hasil = (5/4) * nilai\n",
        "            elif satuan_tujuan == \"Reamur\":\n",
        "                hasil = nilai\n",
        "            elif satuan_tujuan == \"Fahrenheit\":\n",
        "                hasil = (9/4) * nilai + 32\n",
        "        elif satuan_asal == \"Fahrenheit\":\n",
        "            if satuan_tujuan == \"Celcius\":\n",
        "                hasil = (5/9) * (nilai - 32)\n",
        "            elif satuan_tujuan == \"Reamur\":\n",
        "                hasil = (4/9) * (nilai - 32)\n",
        "            elif satuan_tujuan == \"Fahrenheit\":\n",
        "                hasil = nilai\n",
        "\n",
        "        st.success(f\"Hasil konversi: {hasil} {satuan_tujuan}\")\n",
        "\n",
        "# ----------------- Fitur 3: Deret Fibonacci -----------------\n",
        "elif menu == \"Deret Fibonacci\":\n",
        "    st.header(\"Deret Fibonacci\")\n",
        "\n",
        "    n = st.number_input(\"Masukkan jumlah bilangan (n)\", min_value=1, value=5, step=1)\n",
        "\n",
        "    def fibonacci(n):\n",
        "        deret = []\n",
        "        a, b = 0, 1\n",
        "        for _ in range(n):\n",
        "            deret.append(a)\n",
        "            a, b = b, a + b\n",
        "        return deret\n",
        "\n",
        "    if st.button(\"Tampilkan Deret\"):\n",
        "        hasil = fibonacci(n)\n",
        "        st.success(f\"Deret Fibonacci {n} bilangan: {hasil}\")\n",
        "\"\"\")\n",
        "\n",
        "# Hentikan streamlit lama kalau ada\n",
        "!pkill streamlit\n",
        "\n",
        "# Jalankan aplikasi dengan streamlit dan buat link publik via ngrok\n",
        "from pyngrok import ngrok\n",
        "public_url = ngrok.connect(8501)\n",
        "print(\"Aplikasi bisa dibuka di:\", public_url)\n",
        "!streamlit run app.py --server.port 8501\n"
      ],
      "metadata": {
        "colab": {
          "base_uri": "https://localhost:8080/"
        },
        "id": "ZXOx7WluAFqN",
        "outputId": "a917b399-1457-443e-ace6-96e722ccfe3c"
      },
      "execution_count": 8,
      "outputs": [
        {
          "output_type": "stream",
          "name": "stderr",
          "text": [
            "WARNING:pyngrok.process.ngrok:t=2025-09-24T09:26:07+0000 lvl=warn msg=\"failed to open private leg\" id=5d92bc831615 privaddr=localhost:8501 err=\"dial tcp 127.0.0.1:8501: connect: connection refused\"\n",
            "WARNING:pyngrok.process.ngrok:t=2025-09-24T09:26:07+0000 lvl=warn msg=\"failed to open private leg\" id=f506e1a81518 privaddr=localhost:8501 err=\"dial tcp 127.0.0.1:8501: connect: connection refused\"\n",
            "WARNING:pyngrok.process.ngrok:t=2025-09-24T09:26:10+0000 lvl=warn msg=\"failed to open private leg\" id=94291a0da13c privaddr=localhost:8501 err=\"dial tcp 127.0.0.1:8501: connect: connection refused\"\n",
            "WARNING:pyngrok.process.ngrok:t=2025-09-24T09:26:10+0000 lvl=warn msg=\"failed to open private leg\" id=e427794e402a privaddr=localhost:8501 err=\"dial tcp 127.0.0.1:8501: connect: connection refused\"\n"
          ]
        },
        {
          "output_type": "stream",
          "name": "stdout",
          "text": [
            "Authtoken saved to configuration file: /root/.config/ngrok/ngrok.yml\n",
            "Aplikasi bisa dibuka di: NgrokTunnel: \"https://undeadened-farcical-lelia.ngrok-free.dev\" -> \"http://localhost:8501\"\n",
            "\n",
            "Collecting usage statistics. To deactivate, set browser.gatherUsageStats to false.\n",
            "\u001b[0m\n",
            "\u001b[0m\n",
            "\u001b[34m\u001b[1m  You can now view your Streamlit app in your browser.\u001b[0m\n",
            "\u001b[0m\n",
            "\u001b[34m  Local URL: \u001b[0m\u001b[1mhttp://localhost:8501\u001b[0m\n",
            "\u001b[34m  Network URL: \u001b[0m\u001b[1mhttp://172.28.0.12:8501\u001b[0m\n",
            "\u001b[34m  External URL: \u001b[0m\u001b[1mhttp://34.106.30.78:8501\u001b[0m\n",
            "\u001b[0m\n",
            "\u001b[34m  Stopping...\u001b[0m\n",
            "\u001b[34m  Stopping...\u001b[0m\n"
          ]
        }
      ]
    },
    {
      "cell_type": "code",
      "execution_count": 6,
      "metadata": {
        "colab": {
          "base_uri": "https://localhost:8080/"
        },
        "id": "WDlADO5fBZlM",
        "outputId": "f352c0ea-e194-4f02-8d38-6765de36530f"
      },
      "outputs": [
        {
          "output_type": "stream",
          "name": "stderr",
          "text": [
            "WARNING:pyngrok.process.ngrok:t=2025-09-24T09:22:35+0000 lvl=warn msg=\"failed to open private leg\" id=61f6c70cf390 privaddr=localhost:8501 err=\"dial tcp 127.0.0.1:8501: connect: connection refused\"\n",
            "WARNING:pyngrok.process.ngrok:t=2025-09-24T09:22:35+0000 lvl=warn msg=\"failed to open private leg\" id=cbe77f218927 privaddr=localhost:8501 err=\"dial tcp 127.0.0.1:8501: connect: connection refused\"\n",
            "WARNING:pyngrok.process.ngrok:t=2025-09-24T09:22:37+0000 lvl=warn msg=\"failed to open private leg\" id=b79521c6fb77 privaddr=localhost:8501 err=\"dial tcp 127.0.0.1:8501: connect: connection refused\"\n",
            "WARNING:pyngrok.process.ngrok:t=2025-09-24T09:22:38+0000 lvl=warn msg=\"failed to open private leg\" id=cce4ee15290f privaddr=localhost:8501 err=\"dial tcp 127.0.0.1:8501: connect: connection refused\"\n",
            "WARNING:pyngrok.process.ngrok:t=2025-09-24T09:22:38+0000 lvl=warn msg=\"failed to open private leg\" id=773d7298bb21 privaddr=localhost:8501 err=\"dial tcp 127.0.0.1:8501: connect: connection refused\"\n"
          ]
        },
        {
          "output_type": "stream",
          "name": "stdout",
          "text": [
            "Authtoken saved to configuration file: /root/.config/ngrok/ngrok.yml\n",
            "Aplikasi bisa dibuka di: NgrokTunnel: \"https://undeadened-farcical-lelia.ngrok-free.dev\" -> \"http://localhost:8501\"\n",
            "Usage: streamlit run [OPTIONS] TARGET [ARGS]...\n",
            "Try 'streamlit run --help' for help.\n",
            "\n",
            "Error: Invalid value: File does not exist: app.py\n"
          ]
        }
      ],
      "source": [
        "!pip install streamlit pyngrok -q\n",
        "!ngrok config add-authtoken '338dbqzOuOvRMHfU5QyQ1nuMLoE_2RrFAnMk9C6oXgACUqGBG'\n",
        "!pkill streamlit\n",
        "from pyngrok import ngrok\n",
        "public_url = ngrok.connect(8501)\n",
        "print(\"Aplikasi bisa dibuka di:\", public_url)\n",
        "!streamlit run app.py --server.port 8501\n"
      ]
    }
  ]
}